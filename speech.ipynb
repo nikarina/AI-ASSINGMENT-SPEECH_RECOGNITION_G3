{
 "cells": [
  {
   "attachments": {},
   "cell_type": "markdown",
   "metadata": {},
   "source": [
    "SPEECH TO TEXT RECOGNITION by using Pyaudio(for microphone users)"
   ]
  },
  {
   "cell_type": "code",
   "execution_count": null,
   "metadata": {},
   "outputs": [],
   "source": [
    "#import library modules\n",
    "#audio as input and converts it to text\n",
    "import speech_recognition \n",
    "import pyttsx3\n",
    "#web module for make browser request to open site you want\n",
    "import webbrowser "
   ]
  },
  {
   "cell_type": "code",
   "execution_count": null,
   "metadata": {},
   "outputs": [],
   "source": [
    "#reading microphone as source and generate command to change to the command voice \n",
    "#function to convert text to speech\n",
    "def SpeakNow (command) :\n",
    "   \n",
    "#initialize the engine\n",
    "   voice =pyttsx3.init()\n",
    "   voice.say(command)\n",
    "   voice.runAndWait()"
   ]
  },
  {
   "cell_type": "code",
   "execution_count": null,
   "metadata": {},
   "outputs": [],
   "source": [
    "#reading microphone as source for input and generate command to change to the command voice \n",
    "#listening to the speech and store in audio2 variable\n",
    "sr =speech_recognition.Recognizer()    # intialize object of our recognize\n",
    "with speech_recognition.Microphone() as source2:    #Receive audio input from microphone\n",
    "    print(\"Recognizing now ...\")    #time take to wait for a while to let recognizer\n",
    "\n",
    "#adjust the energy threshold based on noise level at surrounding for removing noise\n",
    "    sr.adjust_for_ambient_noise(source2,duration=2)\n",
    "\n",
    "    print(\"Speak Now Please....\")\n",
    "#listen for user input         \n",
    "    audio2 = sr.listen(source2)\n",
    "    \n",
    "#using API key for Google Speech to recognize audio2\n",
    "    textt =sr.recognize_google(audio2)\n",
    "    textt =textt.lower()\n",
    "    \n",
    "    print(\"Did you say : \"+textt)\n",
    "\n",
    "    SpeakNow(textt)     #display word from audio input"
   ]
  },
  {
   "attachments": {},
   "cell_type": "markdown",
   "metadata": {},
   "source": [
    "OPENING WEBSITE BY USING SPEECH RECOGNITION"
   ]
  },
  {
   "cell_type": "code",
   "execution_count": null,
   "metadata": {},
   "outputs": [],
   "source": [
    "if __name__== \"__main__\":   #main function to get the output\n",
    "    \n",
    "    #specify path of browser use to open output website\n",
    "    path = \"C:/Program Files (x86)/Microsoft/Edge/Application/msedge.exe %s\"\n",
    "\n",
    "    sr =speech_recognition.Recognizer()\n",
    "    with speech_recognition.Microphone() as source:\n",
    "\n",
    "        sr.adjust_for_ambient_noise(source) #to removing noise \n",
    "        print(\"Please say something to open...\")\n",
    "\n",
    "        audio = sr.listen(source)\n",
    "\n",
    "        print(\"Hearing...\")\n",
    "\n",
    "        try:        #recognize the audio and after that open the website\n",
    "            destination = sr.recognize_google(audio)\n",
    "\n",
    "            print(\"you asked to open : \" +destination)\n",
    "\n",
    "            webbrowser.get(path).open(destination)\n",
    "\n",
    "            # error message display if the query not sucessfully run\n",
    "        except Exception as e:\n",
    "            print(\"ERORR:\" +str(e))"
   ]
  },
  {
   "attachments": {},
   "cell_type": "markdown",
   "metadata": {},
   "source": [
    "CONVERT TEXT TO AUDIO"
   ]
  },
  {
   "cell_type": "code",
   "execution_count": null,
   "metadata": {},
   "outputs": [],
   "source": [
    "engine = pyttsx3.init() # call function init\n",
    "# by write any text below\n",
    "engine.say(\"welcome to our group project \")\n",
    "engine.setProperty('rate', 120)     # speed of output voice\n",
    "engine.setProperty('volume', 0.9)   # volume of output voice \n",
    "engine.runAndWait()"
   ]
  }
 ],
 "metadata": {
  "kernelspec": {
   "display_name": "Python 3.10.8 64-bit (microsoft store)",
   "language": "python",
   "name": "python3"
  },
  "language_info": {
   "codemirror_mode": {
    "name": "ipython",
    "version": 3
   },
   "file_extension": ".py",
   "mimetype": "text/x-python",
   "name": "python",
   "nbconvert_exporter": "python",
   "pygments_lexer": "ipython3",
   "version": "3.10.8 (tags/v3.10.8:aaaf517, Oct 11 2022, 16:50:30) [MSC v.1933 64 bit (AMD64)]"
  },
  "orig_nbformat": 4,
  "vscode": {
   "interpreter": {
    "hash": "9deea79bfd8769c20cdb41e577c31349975f53057f7c4a88718c49dab3f025eb"
   }
  }
 },
 "nbformat": 4,
 "nbformat_minor": 2
}
